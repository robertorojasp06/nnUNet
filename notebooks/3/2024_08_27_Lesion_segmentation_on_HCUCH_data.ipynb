{
 "cells": [
  {
   "cell_type": "code",
   "execution_count": 1,
   "id": "863ae211",
   "metadata": {},
   "outputs": [],
   "source": [
    "import json\n",
    "import pandas as pd\n",
    "from pathlib import Path"
   ]
  },
  {
   "cell_type": "code",
   "execution_count": 2,
   "id": "d9a71c5a",
   "metadata": {},
   "outputs": [],
   "source": [
    "paths_to_folds_results = {\n",
    "    \"fold_0\": \"resources/default-normalization/nnUNetTrainer__nnUNetPlans__3d_fullres/fold_0/summary.json\",\n",
    "    \"fold_1\": \"resources/default-normalization/nnUNetTrainer__nnUNetPlans__3d_fullres/fold_1/summary.json\",    \n",
    "    \"fold_2\": \"resources/default-normalization/nnUNetTrainer__nnUNetPlans__3d_fullres/fold_2/summary.json\",\n",
    "    \"fold_3\": \"resources/default-normalization/nnUNetTrainer__nnUNetPlans__3d_fullres/fold_3/summary.json\",\n",
    "    \"fold_4\": \"resources/default-normalization/nnUNetTrainer__nnUNetPlans__3d_fullres/fold_4/summary.json\",\n",
    "}"
   ]
  },
  {
   "cell_type": "code",
   "execution_count": 5,
   "id": "9d27c576",
   "metadata": {},
   "outputs": [
    {
     "name": "stdout",
     "output_type": "stream",
     "text": [
      "dict_keys(['foreground_mean', 'mean', 'metric_per_case'])\n"
     ]
    }
   ],
   "source": [
    "with open(paths_to_folds_results['fold_0'], 'r') as file:\n",
    "    results = json.load(file)\n",
    "print(results.keys())"
   ]
  },
  {
   "cell_type": "code",
   "execution_count": 13,
   "id": "b5107838",
   "metadata": {},
   "outputs": [
    {
     "name": "stdout",
     "output_type": "stream",
     "text": [
      "<class 'list'>\n"
     ]
    },
    {
     "data": {
      "text/html": [
       "<div>\n",
       "<style scoped>\n",
       "    .dataframe tbody tr th:only-of-type {\n",
       "        vertical-align: middle;\n",
       "    }\n",
       "\n",
       "    .dataframe tbody tr th {\n",
       "        vertical-align: top;\n",
       "    }\n",
       "\n",
       "    .dataframe thead th {\n",
       "        text-align: right;\n",
       "    }\n",
       "</style>\n",
       "<table border=\"1\" class=\"dataframe\">\n",
       "  <thead>\n",
       "    <tr style=\"text-align: right;\">\n",
       "      <th></th>\n",
       "      <th>metrics</th>\n",
       "      <th>prediction_file</th>\n",
       "      <th>reference_file</th>\n",
       "    </tr>\n",
       "  </thead>\n",
       "  <tbody>\n",
       "    <tr>\n",
       "      <th>0</th>\n",
       "      <td>{'1': {'Dice': 0.7248431386643938, 'FN': 67111...</td>\n",
       "      <td>/media/rrojas/data3/nnUNet/results/trained_mod...</td>\n",
       "      <td>/media/rrojas/data3/nnUNet/data/preprocessed/D...</td>\n",
       "    </tr>\n",
       "    <tr>\n",
       "      <th>1</th>\n",
       "      <td>{'1': {'Dice': 0.8053104256149941, 'FN': 24600...</td>\n",
       "      <td>/media/rrojas/data3/nnUNet/results/trained_mod...</td>\n",
       "      <td>/media/rrojas/data3/nnUNet/data/preprocessed/D...</td>\n",
       "    </tr>\n",
       "    <tr>\n",
       "      <th>2</th>\n",
       "      <td>{'1': {'Dice': 0.0, 'FN': 0, 'FP': 1368, 'IoU'...</td>\n",
       "      <td>/media/rrojas/data3/nnUNet/results/trained_mod...</td>\n",
       "      <td>/media/rrojas/data3/nnUNet/data/preprocessed/D...</td>\n",
       "    </tr>\n",
       "    <tr>\n",
       "      <th>3</th>\n",
       "      <td>{'1': {'Dice': 0.8190664920910152, 'FN': 3758,...</td>\n",
       "      <td>/media/rrojas/data3/nnUNet/results/trained_mod...</td>\n",
       "      <td>/media/rrojas/data3/nnUNet/data/preprocessed/D...</td>\n",
       "    </tr>\n",
       "    <tr>\n",
       "      <th>4</th>\n",
       "      <td>{'1': {'Dice': 0.7980769230769231, 'FN': 3602,...</td>\n",
       "      <td>/media/rrojas/data3/nnUNet/results/trained_mod...</td>\n",
       "      <td>/media/rrojas/data3/nnUNet/data/preprocessed/D...</td>\n",
       "    </tr>\n",
       "  </tbody>\n",
       "</table>\n",
       "</div>"
      ],
      "text/plain": [
       "                                             metrics  \\\n",
       "0  {'1': {'Dice': 0.7248431386643938, 'FN': 67111...   \n",
       "1  {'1': {'Dice': 0.8053104256149941, 'FN': 24600...   \n",
       "2  {'1': {'Dice': 0.0, 'FN': 0, 'FP': 1368, 'IoU'...   \n",
       "3  {'1': {'Dice': 0.8190664920910152, 'FN': 3758,...   \n",
       "4  {'1': {'Dice': 0.7980769230769231, 'FN': 3602,...   \n",
       "\n",
       "                                     prediction_file  \\\n",
       "0  /media/rrojas/data3/nnUNet/results/trained_mod...   \n",
       "1  /media/rrojas/data3/nnUNet/results/trained_mod...   \n",
       "2  /media/rrojas/data3/nnUNet/results/trained_mod...   \n",
       "3  /media/rrojas/data3/nnUNet/results/trained_mod...   \n",
       "4  /media/rrojas/data3/nnUNet/results/trained_mod...   \n",
       "\n",
       "                                      reference_file  \n",
       "0  /media/rrojas/data3/nnUNet/data/preprocessed/D...  \n",
       "1  /media/rrojas/data3/nnUNet/data/preprocessed/D...  \n",
       "2  /media/rrojas/data3/nnUNet/data/preprocessed/D...  \n",
       "3  /media/rrojas/data3/nnUNet/data/preprocessed/D...  \n",
       "4  /media/rrojas/data3/nnUNet/data/preprocessed/D...  "
      ]
     },
     "metadata": {},
     "output_type": "display_data"
    }
   ],
   "source": [
    "print(type(results['metric_per_case']))\n",
    "metrics_per_case_df = pd.DataFrame(results['metric_per_case'])\n",
    "display(metrics_per_case_df)\n",
    "new_metrics_per_case = [\n",
    "    {\n",
    "        \"prediction_file\": item[\"prediction_file\"],\n",
    "        \"reference_file\": item[\"reference_file\"],\n",
    "        \"class_label\": class_,\n",
    "        **metrics\n",
    "    }\n",
    "    for item in results['metric_per_case']\n",
    "    for class_, metrics in item[\"metrics\"].items()\n",
    "]"
   ]
  },
  {
   "cell_type": "code",
   "execution_count": 14,
   "id": "685f6ee4",
   "metadata": {},
   "outputs": [
    {
     "data": {
      "text/plain": [
       "{'prediction_file': '/media/rrojas/data3/nnUNet/results/trained_models/Dataset513_HCUCH_Lesions/nnUNetTrainer__nnUNetPlans__3d_fullres/fold_0/validation/1.3.12.2.1107.5.1.4.83504.30000019103012204275800008668.nii.gz',\n",
       " 'reference_file': '/media/rrojas/data3/nnUNet/data/preprocessed/Dataset513_HCUCH_Lesions/gt_segmentations/1.3.12.2.1107.5.1.4.83504.30000019103012204275800008668.nii.gz',\n",
       " 'class_label': '1',\n",
       " 'Dice': 0.7248431386643938,\n",
       " 'FN': 67111,\n",
       " 'FP': 40067,\n",
       " 'IoU': 0.5684344888402115,\n",
       " 'TN': 75511269,\n",
       " 'TP': 141169,\n",
       " 'n_pred': 181236,\n",
       " 'n_ref': 208280}"
      ]
     },
     "execution_count": 14,
     "metadata": {},
     "output_type": "execute_result"
    }
   ],
   "source": [
    "new_metrics_per_case[0]"
   ]
  }
 ],
 "metadata": {
  "kernelspec": {
   "display_name": "Python 3 (ipykernel)",
   "language": "python",
   "name": "python3"
  },
  "language_info": {
   "codemirror_mode": {
    "name": "ipython",
    "version": 3
   },
   "file_extension": ".py",
   "mimetype": "text/x-python",
   "name": "python",
   "nbconvert_exporter": "python",
   "pygments_lexer": "ipython3",
   "version": "3.9.7"
  }
 },
 "nbformat": 4,
 "nbformat_minor": 5
}
